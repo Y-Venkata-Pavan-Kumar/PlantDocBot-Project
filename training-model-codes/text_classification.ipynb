{
  "nbformat": 4,
  "nbformat_minor": 0,
  "metadata": {
    "colab": {
      "provenance": [],
      "gpuType": "T4"
    },
    "kernelspec": {
      "name": "python3",
      "display_name": "Python 3"
    },
    "language_info": {
      "name": "python"
    },
    "accelerator": "GPU"
  },
  "cells": [
    {
      "cell_type": "code",
      "execution_count": null,
      "metadata": {
        "id": "jBUkq5jcdy_7"
      },
      "outputs": [],
      "source": [
        "import pandas as pd\n",
        "\n",
        "df = pd.read_parquet(\"hf://datasets/ButterChicken98/plantvillage-image-text-pairs/data/train-00000-of-00001.parquet\")"
      ]
    },
    {
      "cell_type": "code",
      "source": [
        "df"
      ],
      "metadata": {
        "id": "x7QM1uo2eHMe"
      },
      "execution_count": null,
      "outputs": []
    },
    {
      "cell_type": "code",
      "source": [
        "df = df.drop(columns= [\"image\"])\n",
        "df"
      ],
      "metadata": {
        "id": "h2WURxEEeQo1"
      },
      "execution_count": null,
      "outputs": []
    },
    {
      "cell_type": "code",
      "source": [
        "df = df.explode(\"captions\" , ignore_index=True)\n",
        "df"
      ],
      "metadata": {
        "id": "QseTDf3YeeGP"
      },
      "execution_count": null,
      "outputs": []
    },
    {
      "cell_type": "code",
      "source": [
        "len(df[\"caption\"].unique().tolist())"
      ],
      "metadata": {
        "id": "8Afbg_MPe3hc"
      },
      "execution_count": null,
      "outputs": []
    },
    {
      "cell_type": "code",
      "source": [
        "df.to_csv(\"dataset.csv\" , index = False)"
      ],
      "metadata": {
        "id": "cBRG6ODafNsW"
      },
      "execution_count": null,
      "outputs": []
    },
    {
      "cell_type": "code",
      "source": [
        "df = pd.read_csv(\"dataset.csv\")\n",
        "df"
      ],
      "metadata": {
        "id": "0ajvHmJEgBgg"
      },
      "execution_count": null,
      "outputs": []
    },
    {
      "cell_type": "code",
      "source": [
        "# df = df.drop(columns= [\"Unnamed: 0\"])"
      ],
      "metadata": {
        "id": "3vQ1u4Y2iKZY"
      },
      "execution_count": null,
      "outputs": []
    },
    {
      "cell_type": "code",
      "source": [
        "from sklearn.preprocessing import LabelEncoder\n",
        "from sklearn.model_selection import train_test_split"
      ],
      "metadata": {
        "id": "q7_LUeO3gByy"
      },
      "execution_count": null,
      "outputs": []
    },
    {
      "cell_type": "code",
      "source": [
        "encoder = LabelEncoder()\n",
        "encoder.fit(df[\"caption\"].tolist())\n",
        "df[\"label\"] = encoder.transform(df[\"caption\"].tolist())\n",
        "df"
      ],
      "metadata": {
        "id": "XRPDtnR6gCAG"
      },
      "execution_count": null,
      "outputs": []
    },
    {
      "cell_type": "code",
      "source": [
        "df_train, df_test = train_test_split(df, train_size=0.8)"
      ],
      "metadata": {
        "id": "7tYLljovgCTt"
      },
      "execution_count": null,
      "outputs": []
    },
    {
      "cell_type": "code",
      "source": [
        "from datasets import Dataset"
      ],
      "metadata": {
        "id": "4tDP9smCimql"
      },
      "execution_count": null,
      "outputs": []
    },
    {
      "cell_type": "code",
      "source": [
        "train_dataset = Dataset.from_pandas(df_train)\n",
        "test_dataset = Dataset.from_pandas(df_test)"
      ],
      "metadata": {
        "id": "2wH6DrFXimoC"
      },
      "execution_count": null,
      "outputs": []
    },
    {
      "cell_type": "code",
      "source": [
        "!pip install transformers"
      ],
      "metadata": {
        "id": "iThVNdqKimlL"
      },
      "execution_count": null,
      "outputs": []
    },
    {
      "cell_type": "code",
      "source": [
        "from transformers import AutoTokenizer"
      ],
      "metadata": {
        "id": "vMLhW7OkimML"
      },
      "execution_count": null,
      "outputs": []
    },
    {
      "cell_type": "code",
      "source": [
        "model_name = \"distilbert-base-uncased\""
      ],
      "metadata": {
        "id": "Ib4F_V3lkrMT"
      },
      "execution_count": null,
      "outputs": []
    },
    {
      "cell_type": "code",
      "source": [
        "tokenizer = AutoTokenizer.from_pretrained(model_name)"
      ],
      "metadata": {
        "id": "edcjiS5QjZ0p"
      },
      "execution_count": null,
      "outputs": []
    },
    {
      "cell_type": "code",
      "source": [
        "def mapper_function(data):\n",
        "  return tokenizer(data['captions'], truncation=True)"
      ],
      "metadata": {
        "id": "iLALFrCpmr2D"
      },
      "execution_count": null,
      "outputs": []
    },
    {
      "cell_type": "code",
      "source": [
        "tokenized_train = train_dataset.map(mapper_function, batched=True)\n",
        "tokenized_test = test_dataset.map(mapper_function, batched=True)"
      ],
      "metadata": {
        "id": "XyPU8X3bmsPa"
      },
      "execution_count": null,
      "outputs": []
    },
    {
      "cell_type": "code",
      "source": [
        "from transformers import AutoModelForSequenceClassification"
      ],
      "metadata": {
        "id": "4pFaQWwqmsU6"
      },
      "execution_count": null,
      "outputs": []
    },
    {
      "cell_type": "code",
      "source": [
        "model = AutoModelForSequenceClassification.from_pretrained(model_name, num_labels=15)"
      ],
      "metadata": {
        "id": "Mhuv51STmsZn"
      },
      "execution_count": null,
      "outputs": []
    },
    {
      "cell_type": "code",
      "source": [
        "!pip install evaluate"
      ],
      "metadata": {
        "id": "rGlTZRszqY-M"
      },
      "execution_count": null,
      "outputs": []
    },
    {
      "cell_type": "code",
      "source": [
        "from transformers import Trainer, TrainingArguments\n",
        "from transformers import DataCollatorWithPadding\n",
        "import evaluate\n",
        "import numpy as np"
      ],
      "metadata": {
        "id": "tHF87J_GpYfX"
      },
      "execution_count": null,
      "outputs": []
    },
    {
      "cell_type": "code",
      "source": [
        "data_collator = DataCollatorWithPadding(tokenizer=tokenizer)"
      ],
      "metadata": {
        "id": "Q1IOfe3GxFDW"
      },
      "execution_count": null,
      "outputs": []
    },
    {
      "cell_type": "code",
      "source": [
        "eval_metric = evaluate.load(\"accuracy\")"
      ],
      "metadata": {
        "id": "ufBgn3n2xVV3"
      },
      "execution_count": null,
      "outputs": []
    },
    {
      "cell_type": "code",
      "source": [
        "def compute_metrics(pred):\n",
        "  # Access the true labels from the EvalPrediction object\n",
        "  labels = pred.label_ids\n",
        "  logits = pred.predictions\n",
        "  prediction = np.argmax(logits, axis=1)\n",
        "  return eval_metric.compute(predictions=prediction, references=labels)"
      ],
      "metadata": {
        "id": "roAgBDrr0yni"
      },
      "execution_count": null,
      "outputs": []
    },
    {
      "cell_type": "code",
      "source": [
        "training_arguments = TrainingArguments(output_dir=\"checkpoints\",\n",
        "                                       per_device_train_batch_size= 16,\n",
        "                                       per_device_eval_batch_size= 16,\n",
        "                                       learning_rate= 1e-4,\n",
        "                                       num_train_epochs=5,\n",
        "                                       weight_decay=0.01,\n",
        "                                       logging_strategy=\"epoch\",\n",
        "                                       save_strategy=\"epoch\",\n",
        "                                       save_total_limit=2,\n",
        "                                       report_to=\"none\")\n"
      ],
      "metadata": {
        "id": "JQqopddNmsdg"
      },
      "execution_count": null,
      "outputs": []
    },
    {
      "cell_type": "code",
      "source": [
        "trainer = Trainer(model=model,\n",
        "                  args=training_arguments,\n",
        "                  train_dataset=tokenized_train,\n",
        "                  eval_dataset=tokenized_test,\n",
        "                  data_collator=data_collator,\n",
        "                  compute_metrics=compute_metrics,\n",
        "                  tokenizer= tokenizer)"
      ],
      "metadata": {
        "id": "tflqyjBh0r7H"
      },
      "execution_count": null,
      "outputs": []
    },
    {
      "cell_type": "code",
      "source": [
        "trainer.train()"
      ],
      "metadata": {
        "id": "RWhtB3gmq9cq"
      },
      "execution_count": null,
      "outputs": []
    },
    {
      "cell_type": "code",
      "source": [
        "from google.colab import drive\n",
        "import os\n",
        "drive.mount('/content/drive')"
      ],
      "metadata": {
        "id": "PCDmrrOFWqj0"
      },
      "execution_count": null,
      "outputs": []
    },
    {
      "cell_type": "code",
      "source": [
        "#saving the model\n",
        "\n",
        "save_dir = \"/content/drive/MyDrive/main_model\"\n",
        "os.makedirs(save_dir, exist_ok=True)\n",
        "\n",
        "final_model_dir = os.path.join(save_dir, \"final_model\")\n",
        "os.makedirs(final_model_dir, exist_ok=True)\n",
        "\n",
        "trainer.save_model(final_model_dir)\n",
        "tokenizer.save_pretrained(final_model_dir)\n",
        "\n",
        "checkpoints_dir = os.path.join(save_dir, \"checkpoints\")\n",
        "os.makedirs(checkpoints_dir, exist_ok=True)\n",
        "\n",
        "trainer.save_state()\n",
        "!cp -r checkpoints {checkpoints_dir}\n",
        "\n",
        "print(\"Final model saved at: {final_model_dir}\")\n",
        "print(\"Checkpoints saved at: {checkpoints_dir}\")"
      ],
      "metadata": {
        "id": "M5iKDuvkvXi5"
      },
      "execution_count": null,
      "outputs": []
    },
    {
      "cell_type": "code",
      "source": [
        "from transformers import AutoModelForSequenceClassification, AutoTokenizer\n",
        "import torch\n",
        "\n",
        "final_model_dir= \"/content/drive/MyDrive/distilbert_plantvillage_text_model\"\n",
        "\n",
        "loaded_model = AutoModelForSequenceClassification.from_pretrained(final_model_dir)\n",
        "loaded_tokenizer = AutoTokenizer.from_pretrained(final_model_dir)\n",
        "\n",
        "trainer = Trainer(\n",
        "    model=loaded_model,\n",
        "    args=training_arguments,\n",
        "    train_dataset=tokenized_train,\n",
        "    eval_dataset=tokenized_test,\n",
        "    tokenizer=loaded_tokenizer,\n",
        "    data_collator=data_collator,\n",
        "    compute_metrics=compute_metrics,\n",
        "\n",
        ")"
      ],
      "metadata": {
        "id": "W9DX3HQevXs2"
      },
      "execution_count": null,
      "outputs": []
    },
    {
      "cell_type": "code",
      "source": [
        "predictions_output = trainer.predict(tokenized_test)\n",
        "preds = np.argmax(predictions_output.predictions, axis=-1)\n",
        "\n",
        "print(\"Predicted label indices:\", preds[:20])\n",
        "print(\"Decoded predictions:\", encoder.inverse_transform(preds[:20]))"
      ],
      "metadata": {
        "id": "o5_W6NGtvXys"
      },
      "execution_count": null,
      "outputs": []
    },
    {
      "cell_type": "code",
      "metadata": {
        "id": "455d51a6"
      },
      "source": [
        "true_labels = df_test[\"label\"].tolist()[:20] # Corrected to use .tolist()\n",
        "decoded_true_labels = encoder.inverse_transform(true_labels)\n",
        "decoded_true_labels"
      ],
      "execution_count": null,
      "outputs": []
    },
    {
      "cell_type": "code",
      "source": [
        "from google.colab import drive\n",
        "drive.mount('/content/drive')"
      ],
      "metadata": {
        "id": "yRnfzH6d2IFh"
      },
      "execution_count": null,
      "outputs": []
    },
    {
      "cell_type": "code",
      "source": [
        "import os\n",
        "print(os.listdir(\"/content/drive/My Drive/Datasets/MyDatasets/PlantVillage\"))"
      ],
      "metadata": {
        "id": "7JNa-JclvX4h"
      },
      "execution_count": null,
      "outputs": []
    },
    {
      "cell_type": "code",
      "source": [
        "print(encoder.classes_)"
      ],
      "metadata": {
        "id": "VJcfkx8kvX7X"
      },
      "execution_count": null,
      "outputs": []
    },
    {
      "cell_type": "code",
      "source": [
        "if 'encoder' in globals():\n",
        "    unique_class_names = encoder.classes_.tolist()\n",
        "    print(\"--- Found Class Names ---\")\n",
        "    print(unique_class_names)\n",
        "    print(\"-------------------------\")\n",
        "else:\n",
        "    print(\"Error: 'encoder' variable not found in the environment.\")"
      ],
      "metadata": {
        "id": "tjxNauCLvX-A"
      },
      "execution_count": null,
      "outputs": []
    },
    {
      "cell_type": "code",
      "source": [],
      "metadata": {
        "id": "9JfX9jrUvYCz"
      },
      "execution_count": null,
      "outputs": []
    },
    {
      "cell_type": "code",
      "source": [],
      "metadata": {
        "id": "1xb3S924vYFt"
      },
      "execution_count": null,
      "outputs": []
    },
    {
      "cell_type": "code",
      "source": [],
      "metadata": {
        "id": "ChmJrdfovYIP"
      },
      "execution_count": null,
      "outputs": []
    },
    {
      "cell_type": "code",
      "source": [],
      "metadata": {
        "id": "mNI3bgpqvYM8"
      },
      "execution_count": null,
      "outputs": []
    },
    {
      "cell_type": "code",
      "source": [],
      "metadata": {
        "id": "pJZngZEdvYP1"
      },
      "execution_count": null,
      "outputs": []
    },
    {
      "cell_type": "code",
      "source": [],
      "metadata": {
        "id": "uD2K1Yg8vYSc"
      },
      "execution_count": null,
      "outputs": []
    },
    {
      "cell_type": "code",
      "source": [],
      "metadata": {
        "id": "Gqnn16v1vYVf"
      },
      "execution_count": null,
      "outputs": []
    },
    {
      "cell_type": "code",
      "source": [],
      "metadata": {
        "id": "ckwELDREvYYK"
      },
      "execution_count": null,
      "outputs": []
    },
    {
      "cell_type": "code",
      "source": [],
      "metadata": {
        "id": "asOtAr8wvYaw"
      },
      "execution_count": null,
      "outputs": []
    }
  ]
}
